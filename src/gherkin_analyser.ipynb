{
 "cells": [
  {
   "cell_type": "code",
   "execution_count": 5,
   "id": "06cce54b",
   "metadata": {},
   "outputs": [],
   "source": [
    "# Imports\n",
    "import spacy\n",
    "import gensim.downloader as api\n",
    "from sklearn.feature_extraction.text import TfidfVectorizer\n",
    "import numpy as np"
   ]
  },
  {
   "cell_type": "code",
   "execution_count": null,
   "id": "bf5d2aa1",
   "metadata": {},
   "outputs": [],
   "source": [
    "!python -m spacy download en_core_web_sm"
   ]
  },
  {
   "cell_type": "code",
   "execution_count": 4,
   "id": "6358f140",
   "metadata": {},
   "outputs": [
    {
     "name": "stdout",
     "output_type": "stream",
     "text": [
      "[==================================================] 100.0% 1662.8/1662.8MB downloaded\n"
     ]
    }
   ],
   "source": [
    "nlp = spacy.load('en_core_web_sm')\n",
    "word2vec_model = api.load('word2vec-google-news-300')"
   ]
  },
  {
   "cell_type": "code",
   "execution_count": 27,
   "id": "f318ca3a",
   "metadata": {},
   "outputs": [],
   "source": [
    "def parsed_feature():\n",
    "    scenarios = []\n",
    "    current_scenario = []\n",
    "    scenario_start = False\n",
    "\n",
    "    with open(\"../data/Calculator.feature\", 'r') as file:\n",
    "        for line in file:\n",
    "            line = line.strip()\n",
    "            if line.startswith(\"Scenario:\"):\n",
    "                if scenario_start:\n",
    "                    scenarios.append(\"\\n\".join(current_scenario))\n",
    "                current_scenario = [line]\n",
    "                scenario_start = True\n",
    "            elif scenario_start:\n",
    "                current_scenario.append(line)\n",
    "        if current_scenario:\n",
    "            scenarios.append(\"\\n\".join(current_scenario))\n",
    "    return scenarios\n",
    "\n",
    "scenarios = parsed_feature()"
   ]
  },
  {
   "cell_type": "code",
   "execution_count": 22,
   "id": "7319ef19",
   "metadata": {},
   "outputs": [],
   "source": [
    "def calculate_tfidf(steps):\n",
    "    vectorizer = TfidfVectorizer()\n",
    "    tfidf_matrix = vectorizer.fit_transform(steps).toarray()\n",
    "    feature_names = vectorizer.get_feature_names_out()\n",
    "    step_index = {step: index for index, step in enumerate(steps)}\n",
    "    return tfidf_matrix, feature_names, step_index\n",
    "\n",
    "def semantic_similarity_with_tfidf(step1, step2, model, tfidf_matrix, feature_names, step_index):\n",
    "    doc1 = nlp(step1)\n",
    "    doc2 = nlp(step2)\n",
    "\n",
    "    # print(doc1)\n",
    "    # print(doc2)\n",
    "    # print('+++++++++++++++++')\n",
    "\n",
    "    vec1 = np.zeros(model.vector_size)\n",
    "    # print(vec1)\n",
    "    vec2 = np.zeros(model.vector_size)\n",
    "    # print(vec1)\n",
    "    # print('-------------------')\n",
    "\n",
    "    for token in doc1:\n",
    "        if token.text in model and token.text in feature_names:\n",
    "            token_index = feature_names.tolist().index(token.text)\n",
    "            tfidf_value = tfidf_matrix[step_index[step1], token_index]\n",
    "            vec1 += model[token.text] * tfidf_value\n",
    "\n",
    "    for token in doc2:\n",
    "        if token.text in model and token.text in feature_names:\n",
    "            token_index = feature_names.tolist().index(token.text)\n",
    "            tfidf_value = tfidf_matrix[step_index[step2], token_index]\n",
    "            vec2 += model[token.text] * tfidf_value\n",
    "\n",
    "    vec1 = vec1 / np.linalg.norm(vec1)\n",
    "    vec2 = vec2 / np.linalg.norm(vec2)\n",
    "\n",
    "    similarity = np.dot(vec1, vec2)\n",
    "    return similarity\n",
    "\n",
    "def is_third_person(scenario):\n",
    "  doc = nlp(scenario)\n",
    "  for token in doc:\n",
    "    if token.pos_ == 'PRON' and token.text.lower() in ['i', 'we', 'you', 'me', 'us']:\n",
    "      return False\n",
    "  return True\n",
    "\n",
    "def has_and_on_same_line(scenario):\n",
    "  steps = scenario.strip().split('\\n')\n",
    "  and_count = 0\n",
    "  for step in steps:\n",
    "    and_count = step.lower().split().count('and')\n",
    "    if not step.lower().startswith('and'):\n",
    "      and_count += 1\n",
    "    if and_count > 1:\n",
    "      return True\n",
    "  return False\n",
    "\n",
    "def has_correct_sequence(scenario):\n",
    "    sequence = ['Given', 'When', 'Then']\n",
    "    lines = scenario.strip().split('\\n')\n",
    "    steps = [line.split()[0] for line in lines if line.strip() and not line.strip().startswith('Scenario')]\n",
    "    current_step = 0\n",
    "    for step in steps:\n",
    "        if step == sequence[current_step]:\n",
    "            current_step += 1\n",
    "            if current_step == len(sequence):\n",
    "                break\n",
    "        elif step != 'And':\n",
    "            return False\n",
    "    return current_step == len(sequence)\n",
    "\n",
    "def validate_semantics_with_tfidf_word2vec(steps, model, tfidf_matrix, feature_names, step_index):\n",
    "    for i in range(1, len(steps)):\n",
    "        similarity = semantic_similarity_with_tfidf(steps[i-1], steps[i], model, tfidf_matrix, feature_names, step_index)\n",
    "        if similarity < 0.3:\n",
    "            return f\"Low semantic similarity between steps:\\n  '{steps[i-1]}'\\n  '{steps[i]}'\"\n",
    "    return None\n",
    "\n",
    "\n",
    "def identify_dissonant_words(step, model, tfidf_vector, feature_names):\n",
    "  dissonant_words = []\n",
    "\n",
    "  # Analisar cada palavra no step\n",
    "  doc = nlp(step)\n",
    "\n",
    "  for token in doc:\n",
    "    if token.text in model and token.text in feature_names:\n",
    "      token_index = feature_names.tolist().index(token.text)\n",
    "      tfidf_value = tfidf_vector[token_index]\n",
    "      # Verificar se a palavra está próxima de zero no embedding\n",
    "      if np.linalg.norm(model[token.text]) == 0 or tfidf_value < 0.1:\n",
    "        dissonant_words.append(token.text)\n",
    "\n",
    "  return dissonant_words"
   ]
  },
  {
   "cell_type": "code",
   "execution_count": 31,
   "id": "920272d0",
   "metadata": {},
   "outputs": [],
   "source": [
    "def validate_scenario(scenario):\n",
    "    lines = scenario.strip().split('\\n')\n",
    "    title = lines[0]  # e.g., \"Scenario: Add two negative numbers\"\n",
    "    steps = lines[1:]\n",
    "\n",
    "    tfidf_matrix, feature_names, step_index = calculate_tfidf(steps)\n",
    "    semantic_error = validate_semantics_with_tfidf_word2vec(\n",
    "        steps, word2vec_model, tfidf_matrix, feature_names, step_index\n",
    "    )\n",
    "\n",
    "    output_lines = [f\"  {title}\"]\n",
    "    \n",
    "    for i, step in enumerate(steps):\n",
    "        errors = []\n",
    "\n",
    "        # Check if step is not in third person\n",
    "        if not is_third_person(step):\n",
    "            errors.append(\"Step not in third person\")\n",
    "\n",
    "        # Check if 'And' is misused in the line\n",
    "        if has_and_on_same_line(step):\n",
    "            errors.append(\"'And' misused in the same line\")\n",
    "\n",
    "        # Check semantic similarity to previous step (except for the first)\n",
    "        if i > 0:\n",
    "            sim = semantic_similarity_with_tfidf(steps[i-1], step, word2vec_model, tfidf_matrix, feature_names, step_index)\n",
    "            if sim < 0.3:\n",
    "                errors.append(\"Low semantic similarity with previous step\")\n",
    "\n",
    "        if errors:\n",
    "            formatted_errors = \"     ->  (\" + \"; \".join(errors) + \")\"\n",
    "        else:\n",
    "            formatted_errors = \"\"\n",
    "\n",
    "        output_lines.append(f\"    {step}{formatted_errors}\")\n",
    "\n",
    "    # Final check: sequence of Given → When → Then\n",
    "    if not has_correct_sequence(scenario):\n",
    "        output_lines.append(\"    ⚠ Error: Incorrect step sequence. Must be 'Given -> When -> Then'.\")\n",
    "\n",
    "    return \"\\n\".join(output_lines)\n"
   ]
  },
  {
   "cell_type": "code",
   "execution_count": 16,
   "id": "0e0650fb",
   "metadata": {},
   "outputs": [
    {
     "name": "stdout",
     "output_type": "stream",
     "text": [
      "['Scenario: Add two positive numbers\\nGiven the calculator is turned on\\nAnd the number 15 is entered and the addition operator is selected\\nAnd the number 10 is entered\\nWhen the equals button is pressed\\nThen the result should be 25\\n', 'Scenario: Add two negative numbers\\nGiven the calculator is turned on\\nAnd I enter the number -5\\nAnd the addition operator is selected\\nAnd you enter number -3\\nWhen the equals button is pressed\\nThen we can see result -8\\n', 'Scenario: Subtract a smaller number from a larger number\\nGiven the calculator is turned on\\nThen the number 20 is entered\\nAnd the subtraction operator is selected\\nAnd the number 5 is entered\\nWhen the equals button is pressed\\nThen the result should be 15\\n', 'Scenario: Subtract a larger number from a smaller number\\nGiven the calculator is turned on\\nAnd the number 5 is entered\\nAnd the subtraction operator is selected\\nAnd the number 20 is entered\\nWhen the monkey eats banana\\nThen the result should be -15\\n', 'Scenario: Multiply two positive numbers\\nGiven the calculator is turned on\\nAnd the number 4 is entered\\nAnd the multiplication operator is selected\\nAnd the number 6 is entered\\nWhen the equals button is pressed\\nThen the result should be 24\\n', 'Scenario: Multiply a positive number by a negative number\\nGiven the calculator is turned on\\nAnd the number 7 is entered\\nAnd the multiplication operator is selected\\nAnd the number -3 is entered\\nWhen the equals button is pressed\\nThen the result should be -21\\n', 'Scenario: Multiply two negative numbers\\nGiven the calculator is turned on\\nAnd the number -4 is entered\\nAnd the multiplication operator is selected\\nAnd the number -5 is entered\\nWhen the equals button is pressed\\nThen the result should be 20\\n', 'Scenario: Divide a larger number by a smaller number\\nGiven the calculator is turned on\\nAnd the number 20 is entered\\nAnd the division operator is selected\\nAnd the number 4 is entered\\nWhen the equals button is pressed\\nThen the result should be 5\\n', 'Scenario: Divide a smaller number by a larger number\\nGiven the calculator is turned on\\nAnd the number 4 is entered\\nAnd the division operator is selected\\nAnd the number 20 is entered\\nWhen the equals button is pressed\\nThen the result should be 0.2\\n', 'Scenario: Divide a number by zero\\nGiven the calculator is turned on\\nAnd the number 10 is entered\\nAnd the division operator is selected\\nAnd the number 0 is entered\\nWhen the equals button is pressed\\nThen an error message should be displayed\\n', 'Scenario: Divide zero by a number\\nGiven the calculator is turned on\\nAnd the number 0 is entered\\nAnd the division operator is selected\\nAnd the number 10 is entered\\nWhen the equals button is pressed\\nThen the result should be 0\\n', 'Scenario: Add zero to a number\\nGiven the calculator is turned on\\nAnd the number 7 is entered\\nAnd the addition operator is selected\\nAnd the number 0 is entered\\nWhen the equals button is pressed\\nThen the result should be 7\\n', 'Scenario: Subtract zero from a number\\nGiven the calculator is turned on\\nAnd the number 9 is entered\\nAnd the subtraction operator is selected\\nAnd the number 0 is entered\\nWhen the equals button is pressed\\nThen the result should be 9\\n', 'Scenario: Multiply a number by zero\\nGiven the calculator is turned on\\nAnd the number 8 is entered\\nAnd the multiplication operator is selected\\nAnd the number 0 is entered\\nWhen the equals button is pressed\\nThen the result should be 0\\n', 'Scenario: Perform a chain of operations\\nGiven the calculator is turned on\\nAnd the number 5 is entered\\nAnd the addition operator is selected\\nAnd the number 3 is entered\\nAnd the multiplication operator is selected\\nAnd the number 2 is entered\\nWhen the equals button is pressed\\nThen the result should be 16\\n', 'Scenario: Perform operations with decimal numbers\\nGiven the calculator is turned on\\nAnd the number 7.5 is entered\\nAnd the addition operator is selected\\nAnd the number 2.3 is entered\\nWhen the equals button is pressed\\nThen the result should be 9.8\\n', 'Scenario: Perform operations with large numbers\\nGiven the calculator is turned on\\nAnd the number 1000000 is entered\\nAnd the multiplication operator is selected\\nAnd the number 1000 is entered\\nWhen the equals button is pressed\\nThen the result should be 1000000000\\n', 'Scenario: Perform operations with negative decimal numbers\\nGiven the calculator is turned on\\nAnd the number -4.5 is entered\\nAnd the addition operator is selected\\nAnd the number -2.5 is entered\\nWhen the equals button is pressed\\nThen the result should be -7\\n', 'Scenario: Add multiple numbers\\nGiven the calculator is turned on\\nAnd the number 3 is entered\\nAnd the addition operator is selected\\nAnd the number 5 is entered\\nAnd the addition operator is selected\\nAnd the number 2 is entered\\nWhen the equals button is pressed\\nThen the result should be 10\\n', 'Scenario: Subtract multiple numbers\\nGiven the calculator is turned on\\nAnd the number 20 is entered\\nAnd the subtraction operator is selected\\nAnd the number 5 is entered\\nAnd the subtraction operator is selected\\nAnd the number 3 is entered\\nWhen the equals button is pressed\\nThen the result should be 12\\n', 'Scenario: Multiply multiple numbers\\nGiven the calculator is turned on\\nAnd the number 2 is entered\\nAnd the multiplication operator is selected\\nAnd the number 3 is entered\\nAnd the multiplication operator is selected\\nAnd the number 4 is entered\\nWhen the equals button is pressed\\nThen the result should be 24\\n', 'Scenario: Divide multiple numbers\\nGiven the calculator is turned on\\nAnd the number 100 is entered\\nAnd the division operator is selected\\nAnd the number 5 is entered\\nAnd the division operator is selected\\nAnd the number 2 is entered\\nWhen the equals button is pressed\\nThen the result should be 10\\n', 'Scenario: Use parentheses for operation precedence\\nGiven the calculator is turned on\\nAnd the number 5 is entered\\nAnd the addition operator is selected\\nAnd the left parenthesis is selected\\nAnd the number 3 is entered\\nAnd the multiplication operator is selected\\nAnd the number 2 is entered\\nAnd the right parenthesis is selected\\nWhen the equals button is pressed\\nThen the result should be 11\\n', 'Scenario: Calculate a square root\\nGiven the calculator is turned on\\nAnd the square root function is selected\\nAnd the number 16 is entered\\nWhen the equals button is pressed\\nThen the result should be 4\\n', 'Scenario: Calculate a power\\nGiven the calculator is turned on\\nAnd the number 3 is entered\\nAnd the power function is selected\\nAnd the number 2 is entered\\nWhen the equals button is pressed\\nThen the result should be 9\\n', 'Scenario: Calculate a percentage\\nGiven the calculator is turned on\\nAnd the number 200 is entered\\nAnd the percentage function is selected\\nWhen the equals button is pressed\\nThen the result should be 2\\n', 'Scenario: Calculate with scientific notation\\nGiven the calculator is turned on\\nAnd the number 1e6 is entered\\nAnd the multiplication operator is selected\\nAnd the number 2 is entered\\nWhen the equals button is pressed\\nThen the result should be 2000000\\n', 'Scenario: Calculate factorial of a number\\nGiven the calculator is turned on\\nAnd the number 5 is entered\\nAnd the factorial function is selected\\nWhen the equals button is pressed\\nThen the result should be 120\\n', 'Scenario: Calculate the modulus of two numbers\\nGiven the calculator is turned on\\nAnd the number 10 is entered\\nAnd the modulus operator is selected\\nAnd the number 3 is entered\\nWhen the equals button is pressed\\nThen the result should be 1\\n', 'Scenario: Calculate the absolute value of a negative number\\nGiven the calculator is turned on\\nAnd the number -7 is entered\\nAnd the absolute value function is selected\\nWhen the equals button is pressed\\nThen the result should be 7\\n\\n']\n",
      "Scenario: Subtract a larger number from a smaller number\n",
      "Given the calculator is turned on\n",
      "And the number 5 is entered\n",
      "And the subtraction operator is selected\n",
      "And the number 20 is entered\n",
      "When the monkey eats banana\n",
      "Then the result should be -15\n",
      "\n"
     ]
    }
   ],
   "source": [
    "scenarios = parsed_feature()\n",
    "print(scenarios)\n",
    "print(scenarios[3])"
   ]
  },
  {
   "cell_type": "code",
   "execution_count": 17,
   "id": "edc8096e",
   "metadata": {},
   "outputs": [
    {
     "name": "stdout",
     "output_type": "stream",
     "text": [
      "  Scenario: Add two positive numbers\n",
      "    Given the calculator is turned on\n",
      "    And the number 15 is entered and the addition operator is selected ('And' misused in the same line)\n",
      "    And the number 10 is entered\n",
      "    When the equals button is pressed\n",
      "    Then the result should be 25\n"
     ]
    }
   ],
   "source": [
    "# Erro Multiplos passos aninhados\n",
    "print(validate_scenario(scenarios[0]))"
   ]
  },
  {
   "cell_type": "code",
   "execution_count": 18,
   "id": "7b38edcf",
   "metadata": {},
   "outputs": [
    {
     "name": "stdout",
     "output_type": "stream",
     "text": [
      "  Scenario: Add two negative numbers\n",
      "    Given the calculator is turned on\n",
      "    And I enter the number -5 (Step not in third person; Low semantic similarity with previous step)\n",
      "    And the addition operator is selected\n",
      "    And you enter number -3 (Step not in third person)\n",
      "    When the equals button is pressed\n",
      "    Then we can see result -8 (Step not in third person)\n"
     ]
    }
   ],
   "source": [
    "# Erro Primeira pessoa\n",
    "print(validate_scenario(scenarios[1]))"
   ]
  },
  {
   "cell_type": "code",
   "execution_count": 19,
   "id": "9b4757d7",
   "metadata": {},
   "outputs": [
    {
     "name": "stdout",
     "output_type": "stream",
     "text": [
      "  Scenario: Subtract a smaller number from a larger number\n",
      "    Given the calculator is turned on\n",
      "    Then the number 20 is entered\n",
      "    And the subtraction operator is selected\n",
      "    And the number 5 is entered\n",
      "    When the equals button is pressed\n",
      "    Then the result should be 15\n",
      "    ⚠ Error: Incorrect step sequence. Must be 'Given -> When -> Then'.\n"
     ]
    }
   ],
   "source": [
    "# Erro de sequênia lógica\n",
    "print(validate_scenario(scenarios[2]))"
   ]
  },
  {
   "cell_type": "code",
   "execution_count": 20,
   "id": "28c84373",
   "metadata": {},
   "outputs": [
    {
     "name": "stdout",
     "output_type": "stream",
     "text": [
      "  Scenario: Subtract a larger number from a smaller number\n",
      "    Given the calculator is turned on\n",
      "    And the number 5 is entered\n",
      "    And the subtraction operator is selected\n",
      "    And the number 20 is entered\n",
      "    When the monkey eats banana (Low semantic similarity with previous step)\n",
      "    Then the result should be -15 (Low semantic similarity with previous step)\n"
     ]
    }
   ],
   "source": [
    "# Erro de semântica\n",
    "print(validate_scenario(scenarios[3]))"
   ]
  },
  {
   "cell_type": "code",
   "execution_count": 32,
   "id": "e3b16a1e",
   "metadata": {},
   "outputs": [
    {
     "name": "stdout",
     "output_type": "stream",
     "text": [
      "  Scenario: Add invalidly described values\n",
      "    Given I turn the calculator on and I want to do math and itâ€™s broken     ->  (Step not in third person; 'And' misused in the same line)\n",
      "    Then you click something and then we pray     ->  (Step not in third person; 'And' misused in the same line)\n",
      "    When we see the screen and we type stuff     ->  (Step not in third person; 'And' misused in the same line)\n",
      "    Given the monkey eats banana     ->  (Low semantic similarity with previous step)\n",
      "    ⚠ Error: Incorrect step sequence. Must be 'Given -> When -> Then'.\n"
     ]
    }
   ],
   "source": [
    "# Erro de semântica\n",
    "print(validate_scenario(scenarios[5]))"
   ]
  }
 ],
 "metadata": {
  "kernelspec": {
   "display_name": "venvGherkin",
   "language": "python",
   "name": "python3"
  },
  "language_info": {
   "codemirror_mode": {
    "name": "ipython",
    "version": 3
   },
   "file_extension": ".py",
   "mimetype": "text/x-python",
   "name": "python",
   "nbconvert_exporter": "python",
   "pygments_lexer": "ipython3",
   "version": "3.11.9"
  }
 },
 "nbformat": 4,
 "nbformat_minor": 5
}
